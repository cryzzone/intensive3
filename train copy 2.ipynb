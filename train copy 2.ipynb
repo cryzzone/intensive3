{
 "cells": [
  {
   "cell_type": "code",
   "execution_count": 1,
   "metadata": {},
   "outputs": [
    {
     "name": "stdout",
     "output_type": "stream",
     "text": [
      "Requirement already satisfied: pandas in c:\\program files\\python312\\lib\\site-packages (2.2.3)\n",
      "Requirement already satisfied: darts in c:\\program files\\python312\\lib\\site-packages (0.34.0)\n",
      "Requirement already satisfied: openpyxl in c:\\program files\\python312\\lib\\site-packages (3.1.5)\n",
      "Requirement already satisfied: numpy>=1.26.0 in c:\\program files\\python312\\lib\\site-packages (from pandas) (1.26.4)\n",
      "Requirement already satisfied: python-dateutil>=2.8.2 in c:\\users\\user 1\\appdata\\roaming\\python\\python312\\site-packages (from pandas) (2.9.0.post0)\n",
      "Requirement already satisfied: pytz>=2020.1 in c:\\program files\\python312\\lib\\site-packages (from pandas) (2024.2)\n",
      "Requirement already satisfied: tzdata>=2022.7 in c:\\program files\\python312\\lib\\site-packages (from pandas) (2024.1)\n",
      "Requirement already satisfied: holidays>=0.11.1 in c:\\program files\\python312\\lib\\site-packages (from darts) (0.69)\n",
      "Requirement already satisfied: joblib>=0.16.0 in c:\\program files\\python312\\lib\\site-packages (from darts) (1.4.2)\n",
      "Requirement already satisfied: matplotlib>=3.3.0 in c:\\program files\\python312\\lib\\site-packages (from darts) (3.10.0)\n",
      "Requirement already satisfied: narwhals>=1.25.1 in c:\\program files\\python312\\lib\\site-packages (from darts) (1.31.0)\n",
      "Requirement already satisfied: nfoursid>=1.0.0 in c:\\program files\\python312\\lib\\site-packages (from darts) (1.0.1)\n",
      "Requirement already satisfied: pmdarima>=1.8.0 in c:\\program files\\python312\\lib\\site-packages (from darts) (2.0.4)\n",
      "Requirement already satisfied: pyod>=0.9.5 in c:\\program files\\python312\\lib\\site-packages (from darts) (2.0.3)\n",
      "Requirement already satisfied: requests>=2.22.0 in c:\\program files\\python312\\lib\\site-packages (from darts) (2.31.0)\n",
      "Requirement already satisfied: scikit-learn>=1.6.0 in c:\\program files\\python312\\lib\\site-packages (from darts) (1.6.1)\n",
      "Requirement already satisfied: scipy>=1.3.2 in c:\\program files\\python312\\lib\\site-packages (from darts) (1.14.1)\n",
      "Requirement already satisfied: shap>=0.40.0 in c:\\program files\\python312\\lib\\site-packages (from darts) (0.47.0)\n",
      "Requirement already satisfied: statsforecast>=1.4 in c:\\program files\\python312\\lib\\site-packages (from darts) (2.0.1)\n",
      "Requirement already satisfied: statsmodels>=0.14.0 in c:\\program files\\python312\\lib\\site-packages (from darts) (0.14.4)\n",
      "Requirement already satisfied: tbats>=1.1.0 in c:\\program files\\python312\\lib\\site-packages (from darts) (1.1.3)\n",
      "Requirement already satisfied: tqdm>=4.60.0 in c:\\program files\\python312\\lib\\site-packages (from darts) (4.67.1)\n",
      "Requirement already satisfied: typing-extensions in c:\\program files\\python312\\lib\\site-packages (from darts) (4.11.0)\n",
      "Requirement already satisfied: xarray>=0.17.0 in c:\\program files\\python312\\lib\\site-packages (from darts) (2025.3.0)\n",
      "Requirement already satisfied: xgboost>=2.1.4 in c:\\program files\\python312\\lib\\site-packages (from darts) (3.0.0)\n",
      "Requirement already satisfied: pytorch-lightning>=1.5.0 in c:\\program files\\python312\\lib\\site-packages (from darts) (2.5.1)\n",
      "Requirement already satisfied: tensorboardX>=2.1 in c:\\program files\\python312\\lib\\site-packages (from darts) (2.6.2.2)\n",
      "Requirement already satisfied: torch>=1.8.0 in c:\\program files\\python312\\lib\\site-packages (from darts) (2.6.0)\n",
      "Requirement already satisfied: et-xmlfile in c:\\program files\\python312\\lib\\site-packages (from openpyxl) (2.0.0)\n",
      "Requirement already satisfied: contourpy>=1.0.1 in c:\\program files\\python312\\lib\\site-packages (from matplotlib>=3.3.0->darts) (1.3.1)\n",
      "Requirement already satisfied: cycler>=0.10 in c:\\program files\\python312\\lib\\site-packages (from matplotlib>=3.3.0->darts) (0.12.1)\n",
      "Requirement already satisfied: fonttools>=4.22.0 in c:\\program files\\python312\\lib\\site-packages (from matplotlib>=3.3.0->darts) (4.55.3)\n",
      "Requirement already satisfied: kiwisolver>=1.3.1 in c:\\program files\\python312\\lib\\site-packages (from matplotlib>=3.3.0->darts) (1.4.7)\n",
      "Requirement already satisfied: packaging>=20.0 in c:\\program files\\python312\\lib\\site-packages (from matplotlib>=3.3.0->darts) (23.2)\n",
      "Requirement already satisfied: pillow>=8 in c:\\program files\\python312\\lib\\site-packages (from matplotlib>=3.3.0->darts) (10.3.0)\n",
      "Requirement already satisfied: pyparsing>=2.3.1 in c:\\program files\\python312\\lib\\site-packages (from matplotlib>=3.3.0->darts) (3.2.0)\n",
      "Requirement already satisfied: Cython!=0.29.18,!=0.29.31,>=0.29 in c:\\program files\\python312\\lib\\site-packages (from pmdarima>=1.8.0->darts) (3.0.12)\n",
      "Requirement already satisfied: urllib3 in c:\\program files\\python312\\lib\\site-packages (from pmdarima>=1.8.0->darts) (2.2.1)\n",
      "Requirement already satisfied: setuptools!=50.0.0,>=38.6.0 in c:\\program files\\python312\\lib\\site-packages (from pmdarima>=1.8.0->darts) (77.0.1)\n",
      "Requirement already satisfied: numba>=0.51 in c:\\program files\\python312\\lib\\site-packages (from pyod>=0.9.5->darts) (0.61.0)\n",
      "Requirement already satisfied: six>=1.5 in c:\\users\\user 1\\appdata\\roaming\\python\\python312\\site-packages (from python-dateutil>=2.8.2->pandas) (1.16.0)\n",
      "Requirement already satisfied: PyYAML>=5.4 in c:\\program files\\python312\\lib\\site-packages (from pytorch-lightning>=1.5.0->darts) (6.0.1)\n",
      "Requirement already satisfied: fsspec>=2022.5.0 in c:\\program files\\python312\\lib\\site-packages (from fsspec[http]>=2022.5.0->pytorch-lightning>=1.5.0->darts) (2025.3.0)\n",
      "Requirement already satisfied: torchmetrics>=0.7.0 in c:\\program files\\python312\\lib\\site-packages (from pytorch-lightning>=1.5.0->darts) (1.6.3)\n",
      "Requirement already satisfied: lightning-utilities>=0.10.0 in c:\\program files\\python312\\lib\\site-packages (from pytorch-lightning>=1.5.0->darts) (0.14.1)\n",
      "Requirement already satisfied: charset-normalizer<4,>=2 in c:\\program files\\python312\\lib\\site-packages (from requests>=2.22.0->darts) (3.3.2)\n",
      "Requirement already satisfied: idna<4,>=2.5 in c:\\program files\\python312\\lib\\site-packages (from requests>=2.22.0->darts) (3.7)\n",
      "Requirement already satisfied: certifi>=2017.4.17 in c:\\program files\\python312\\lib\\site-packages (from requests>=2.22.0->darts) (2024.2.2)\n",
      "Requirement already satisfied: threadpoolctl>=3.1.0 in c:\\program files\\python312\\lib\\site-packages (from scikit-learn>=1.6.0->darts) (3.5.0)\n",
      "Requirement already satisfied: slicer==0.0.8 in c:\\program files\\python312\\lib\\site-packages (from shap>=0.40.0->darts) (0.0.8)\n",
      "Requirement already satisfied: cloudpickle in c:\\program files\\python312\\lib\\site-packages (from shap>=0.40.0->darts) (3.1.1)\n",
      "Requirement already satisfied: coreforecast>=0.0.12 in c:\\program files\\python312\\lib\\site-packages (from statsforecast>=1.4->darts) (0.0.15)\n",
      "Requirement already satisfied: fugue>=0.8.1 in c:\\program files\\python312\\lib\\site-packages (from statsforecast>=1.4->darts) (0.9.1)\n",
      "Requirement already satisfied: utilsforecast>=0.1.4 in c:\\program files\\python312\\lib\\site-packages (from statsforecast>=1.4->darts) (0.2.12)\n",
      "Requirement already satisfied: patsy>=0.5.6 in c:\\program files\\python312\\lib\\site-packages (from statsmodels>=0.14.0->darts) (1.0.1)\n",
      "Requirement already satisfied: protobuf>=3.20 in c:\\program files\\python312\\lib\\site-packages (from tensorboardX>=2.1->darts) (6.30.1)\n",
      "Requirement already satisfied: filelock in c:\\program files\\python312\\lib\\site-packages (from torch>=1.8.0->darts) (3.18.0)\n",
      "Requirement already satisfied: networkx in c:\\program files\\python312\\lib\\site-packages (from torch>=1.8.0->darts) (3.4.2)\n",
      "Requirement already satisfied: jinja2 in c:\\program files\\python312\\lib\\site-packages (from torch>=1.8.0->darts) (3.1.6)\n",
      "Requirement already satisfied: sympy==1.13.1 in c:\\program files\\python312\\lib\\site-packages (from torch>=1.8.0->darts) (1.13.1)\n",
      "Requirement already satisfied: mpmath<1.4,>=1.1.0 in c:\\program files\\python312\\lib\\site-packages (from sympy==1.13.1->torch>=1.8.0->darts) (1.3.0)\n",
      "Requirement already satisfied: colorama in c:\\users\\user 1\\appdata\\roaming\\python\\python312\\site-packages (from tqdm>=4.60.0->darts) (0.4.6)\n",
      "Requirement already satisfied: aiohttp!=4.0.0a0,!=4.0.0a1 in c:\\program files\\python312\\lib\\site-packages (from fsspec[http]>=2022.5.0->pytorch-lightning>=1.5.0->darts) (3.9.4)\n",
      "Requirement already satisfied: triad>=0.9.7 in c:\\program files\\python312\\lib\\site-packages (from fugue>=0.8.1->statsforecast>=1.4->darts) (0.9.8)\n",
      "Requirement already satisfied: adagio>=0.2.4 in c:\\program files\\python312\\lib\\site-packages (from fugue>=0.8.1->statsforecast>=1.4->darts) (0.2.6)\n",
      "Requirement already satisfied: llvmlite<0.45,>=0.44.0dev0 in c:\\program files\\python312\\lib\\site-packages (from numba>=0.51->pyod>=0.9.5->darts) (0.44.0)\n",
      "Requirement already satisfied: MarkupSafe>=2.0 in c:\\program files\\python312\\lib\\site-packages (from jinja2->torch>=1.8.0->darts) (3.0.2)\n",
      "Requirement already satisfied: aiosignal>=1.1.2 in c:\\program files\\python312\\lib\\site-packages (from aiohttp!=4.0.0a0,!=4.0.0a1->fsspec[http]>=2022.5.0->pytorch-lightning>=1.5.0->darts) (1.3.1)\n",
      "Requirement already satisfied: attrs>=17.3.0 in c:\\program files\\python312\\lib\\site-packages (from aiohttp!=4.0.0a0,!=4.0.0a1->fsspec[http]>=2022.5.0->pytorch-lightning>=1.5.0->darts) (23.2.0)\n",
      "Requirement already satisfied: frozenlist>=1.1.1 in c:\\program files\\python312\\lib\\site-packages (from aiohttp!=4.0.0a0,!=4.0.0a1->fsspec[http]>=2022.5.0->pytorch-lightning>=1.5.0->darts) (1.4.1)\n",
      "Requirement already satisfied: multidict<7.0,>=4.5 in c:\\program files\\python312\\lib\\site-packages (from aiohttp!=4.0.0a0,!=4.0.0a1->fsspec[http]>=2022.5.0->pytorch-lightning>=1.5.0->darts) (6.0.5)\n",
      "Requirement already satisfied: yarl<2.0,>=1.0 in c:\\program files\\python312\\lib\\site-packages (from aiohttp!=4.0.0a0,!=4.0.0a1->fsspec[http]>=2022.5.0->pytorch-lightning>=1.5.0->darts) (1.9.4)\n",
      "Requirement already satisfied: pyarrow>=6.0.1 in c:\\program files\\python312\\lib\\site-packages (from triad>=0.9.7->fugue>=0.8.1->statsforecast>=1.4->darts) (19.0.1)\n",
      "Requirement already satisfied: fs in c:\\program files\\python312\\lib\\site-packages (from triad>=0.9.7->fugue>=0.8.1->statsforecast>=1.4->darts) (2.4.16)\n",
      "Requirement already satisfied: appdirs~=1.4.3 in c:\\program files\\python312\\lib\\site-packages (from fs->triad>=0.9.7->fugue>=0.8.1->statsforecast>=1.4->darts) (1.4.4)\n",
      "Note: you may need to restart the kernel to use updated packages.\n"
     ]
    },
    {
     "name": "stderr",
     "output_type": "stream",
     "text": [
      "\n",
      "[notice] A new release of pip is available: 24.0 -> 25.0.1\n",
      "[notice] To update, run: python.exe -m pip install --upgrade pip\n"
     ]
    }
   ],
   "source": [
    "pip install pandas darts openpyxl"
   ]
  },
  {
   "cell_type": "code",
   "execution_count": 2,
   "metadata": {},
   "outputs": [
    {
     "name": "stderr",
     "output_type": "stream",
     "text": [
      "c:\\Program Files\\Python312\\Lib\\site-packages\\tqdm\\auto.py:21: TqdmWarning: IProgress not found. Please update jupyter and ipywidgets. See https://ipywidgets.readthedocs.io/en/stable/user_install.html\n",
      "  from .autonotebook import tqdm as notebook_tqdm\n"
     ]
    },
    {
     "ename": "KeyError",
     "evalue": "'дата'",
     "output_type": "error",
     "traceback": [
      "\u001b[1;31m---------------------------------------------------------------------------\u001b[0m",
      "\u001b[1;31mKeyError\u001b[0m                                  Traceback (most recent call last)",
      "File \u001b[1;32mc:\\Program Files\\Python312\\Lib\\site-packages\\pandas\\core\\indexes\\base.py:3805\u001b[0m, in \u001b[0;36mIndex.get_loc\u001b[1;34m(self, key)\u001b[0m\n\u001b[0;32m   3804\u001b[0m \u001b[38;5;28;01mtry\u001b[39;00m:\n\u001b[1;32m-> 3805\u001b[0m     \u001b[38;5;28;01mreturn\u001b[39;00m \u001b[38;5;28;43mself\u001b[39;49m\u001b[38;5;241;43m.\u001b[39;49m\u001b[43m_engine\u001b[49m\u001b[38;5;241;43m.\u001b[39;49m\u001b[43mget_loc\u001b[49m\u001b[43m(\u001b[49m\u001b[43mcasted_key\u001b[49m\u001b[43m)\u001b[49m\n\u001b[0;32m   3806\u001b[0m \u001b[38;5;28;01mexcept\u001b[39;00m \u001b[38;5;167;01mKeyError\u001b[39;00m \u001b[38;5;28;01mas\u001b[39;00m err:\n",
      "File \u001b[1;32mindex.pyx:167\u001b[0m, in \u001b[0;36mpandas._libs.index.IndexEngine.get_loc\u001b[1;34m()\u001b[0m\n",
      "File \u001b[1;32mindex.pyx:196\u001b[0m, in \u001b[0;36mpandas._libs.index.IndexEngine.get_loc\u001b[1;34m()\u001b[0m\n",
      "File \u001b[1;32mpandas\\\\_libs\\\\hashtable_class_helper.pxi:7081\u001b[0m, in \u001b[0;36mpandas._libs.hashtable.PyObjectHashTable.get_item\u001b[1;34m()\u001b[0m\n",
      "File \u001b[1;32mpandas\\\\_libs\\\\hashtable_class_helper.pxi:7089\u001b[0m, in \u001b[0;36mpandas._libs.hashtable.PyObjectHashTable.get_item\u001b[1;34m()\u001b[0m\n",
      "\u001b[1;31mKeyError\u001b[0m: 'дата'",
      "\nThe above exception was the direct cause of the following exception:\n",
      "\u001b[1;31mKeyError\u001b[0m                                  Traceback (most recent call last)",
      "Cell \u001b[1;32mIn[2], line 15\u001b[0m\n\u001b[0;32m     12\u001b[0m fuel_df \u001b[38;5;241m=\u001b[39m pd\u001b[38;5;241m.\u001b[39mread_excel(\u001b[38;5;124m'\u001b[39m\u001b[38;5;124mтопливо.xlsx\u001b[39m\u001b[38;5;124m'\u001b[39m)\n\u001b[0;32m     13\u001b[0m cargo_df \u001b[38;5;241m=\u001b[39m pd\u001b[38;5;241m.\u001b[39mread_excel(\u001b[38;5;124m'\u001b[39m\u001b[38;5;124mгрузоперевозки.xlsx\u001b[39m\u001b[38;5;124m'\u001b[39m)\n\u001b[1;32m---> 15\u001b[0m train_df[\u001b[38;5;124m'\u001b[39m\u001b[38;5;124mдата\u001b[39m\u001b[38;5;124m'\u001b[39m] \u001b[38;5;241m=\u001b[39m pd\u001b[38;5;241m.\u001b[39mto_datetime(\u001b[43mtrain_df\u001b[49m\u001b[43m[\u001b[49m\u001b[38;5;124;43m'\u001b[39;49m\u001b[38;5;124;43mдата\u001b[39;49m\u001b[38;5;124;43m'\u001b[39;49m\u001b[43m]\u001b[49m)\n\u001b[0;32m     16\u001b[0m chmf_df[\u001b[38;5;124m'\u001b[39m\u001b[38;5;124mdate\u001b[39m\u001b[38;5;124m'\u001b[39m] \u001b[38;5;241m=\u001b[39m pd\u001b[38;5;241m.\u001b[39mto_datetime(chmf_df[\u001b[38;5;124m'\u001b[39m\u001b[38;5;124mdate\u001b[39m\u001b[38;5;124m'\u001b[39m])\n\u001b[0;32m     17\u001b[0m magn_df[\u001b[38;5;124m'\u001b[39m\u001b[38;5;124mdate\u001b[39m\u001b[38;5;124m'\u001b[39m] \u001b[38;5;241m=\u001b[39m pd\u001b[38;5;241m.\u001b[39mto_datetime(magn_df[\u001b[38;5;124m'\u001b[39m\u001b[38;5;124mdate\u001b[39m\u001b[38;5;124m'\u001b[39m])\n",
      "File \u001b[1;32mc:\\Program Files\\Python312\\Lib\\site-packages\\pandas\\core\\frame.py:4102\u001b[0m, in \u001b[0;36mDataFrame.__getitem__\u001b[1;34m(self, key)\u001b[0m\n\u001b[0;32m   4100\u001b[0m \u001b[38;5;28;01mif\u001b[39;00m \u001b[38;5;28mself\u001b[39m\u001b[38;5;241m.\u001b[39mcolumns\u001b[38;5;241m.\u001b[39mnlevels \u001b[38;5;241m>\u001b[39m \u001b[38;5;241m1\u001b[39m:\n\u001b[0;32m   4101\u001b[0m     \u001b[38;5;28;01mreturn\u001b[39;00m \u001b[38;5;28mself\u001b[39m\u001b[38;5;241m.\u001b[39m_getitem_multilevel(key)\n\u001b[1;32m-> 4102\u001b[0m indexer \u001b[38;5;241m=\u001b[39m \u001b[38;5;28;43mself\u001b[39;49m\u001b[38;5;241;43m.\u001b[39;49m\u001b[43mcolumns\u001b[49m\u001b[38;5;241;43m.\u001b[39;49m\u001b[43mget_loc\u001b[49m\u001b[43m(\u001b[49m\u001b[43mkey\u001b[49m\u001b[43m)\u001b[49m\n\u001b[0;32m   4103\u001b[0m \u001b[38;5;28;01mif\u001b[39;00m is_integer(indexer):\n\u001b[0;32m   4104\u001b[0m     indexer \u001b[38;5;241m=\u001b[39m [indexer]\n",
      "File \u001b[1;32mc:\\Program Files\\Python312\\Lib\\site-packages\\pandas\\core\\indexes\\base.py:3812\u001b[0m, in \u001b[0;36mIndex.get_loc\u001b[1;34m(self, key)\u001b[0m\n\u001b[0;32m   3807\u001b[0m     \u001b[38;5;28;01mif\u001b[39;00m \u001b[38;5;28misinstance\u001b[39m(casted_key, \u001b[38;5;28mslice\u001b[39m) \u001b[38;5;129;01mor\u001b[39;00m (\n\u001b[0;32m   3808\u001b[0m         \u001b[38;5;28misinstance\u001b[39m(casted_key, abc\u001b[38;5;241m.\u001b[39mIterable)\n\u001b[0;32m   3809\u001b[0m         \u001b[38;5;129;01mand\u001b[39;00m \u001b[38;5;28many\u001b[39m(\u001b[38;5;28misinstance\u001b[39m(x, \u001b[38;5;28mslice\u001b[39m) \u001b[38;5;28;01mfor\u001b[39;00m x \u001b[38;5;129;01min\u001b[39;00m casted_key)\n\u001b[0;32m   3810\u001b[0m     ):\n\u001b[0;32m   3811\u001b[0m         \u001b[38;5;28;01mraise\u001b[39;00m InvalidIndexError(key)\n\u001b[1;32m-> 3812\u001b[0m     \u001b[38;5;28;01mraise\u001b[39;00m \u001b[38;5;167;01mKeyError\u001b[39;00m(key) \u001b[38;5;28;01mfrom\u001b[39;00m \u001b[38;5;21;01merr\u001b[39;00m\n\u001b[0;32m   3813\u001b[0m \u001b[38;5;28;01mexcept\u001b[39;00m \u001b[38;5;167;01mTypeError\u001b[39;00m:\n\u001b[0;32m   3814\u001b[0m     \u001b[38;5;66;03m# If we have a listlike key, _check_indexing_error will raise\u001b[39;00m\n\u001b[0;32m   3815\u001b[0m     \u001b[38;5;66;03m#  InvalidIndexError. Otherwise we fall through and re-raise\u001b[39;00m\n\u001b[0;32m   3816\u001b[0m     \u001b[38;5;66;03m#  the TypeError.\u001b[39;00m\n\u001b[0;32m   3817\u001b[0m     \u001b[38;5;28mself\u001b[39m\u001b[38;5;241m.\u001b[39m_check_indexing_error(key)\n",
      "\u001b[1;31mKeyError\u001b[0m: 'дата'"
     ]
    }
   ],
   "source": [
    "import pandas as pd\n",
    "from darts import TimeSeries\n",
    "from darts.models import ExponentialSmoothing\n",
    "from darts.metrics import mape\n",
    "\n",
    "train_df = pd.read_excel('train.xlsx')\n",
    "chmf_df = pd.read_csv('chmf акции.csv')\n",
    "magn_df = pd.read_csv('magn акции.csv')\n",
    "nlmk_df = pd.read_csv('nlmk акции.csv')\n",
    "lme_df = pd.read_excel('Индекс LME.xlsx')\n",
    "macro_df = pd.read_excel('макропоказатели.xlsx')\n",
    "fuel_df = pd.read_excel('топливо.xlsx')\n",
    "cargo_df = pd.read_excel('грузоперевозки.xlsx')\n",
    "\n",
    "train_df['дата'] = pd.to_datetime(train_df['дата'])\n",
    "chmf_df['date'] = pd.to_datetime(chmf_df['date'])\n",
    "magn_df['date'] = pd.to_datetime(magn_df['date'])\n",
    "nlmk_df['date'] = pd.to_datetime(nlmk_df['date'])\n",
    "lme_df['дата'] = pd.to_datetime(lme_df['дата'])\n",
    "macro_df['дата'] = pd.to_datetime(macro_df['дата'])\n",
    "fuel_df['дата'] = pd.to_datetime(fuel_df['дата'])\n",
    "cargo_df['дата'] = pd.to_datetime(cargo_df['дата'])\n",
    "\n",
    "merged_df = train_df\n",
    "\n",
    "merged_df = merged_df.merge(chmf_df[['date', 'price']], left_on='дата', right_on='date', how='left', suffixes=('', '_chmf'))\n",
    "merged_df = merged_df.merge(magn_df[['date', 'price']], left_on='дата', right_on='date', how='left', suffixes=('', '_magn'))\n",
    "merged_df = merged_df.merge(nlmk_df[['date', 'price']], left_on='дата', right_on='date', how='left', suffixes=('', '_nlmk'))\n",
    "merged_df = merged_df.merge(lme_df, left_on='дата', right_on='дата', how='left')\n",
    "merged_df = merged_df.merge(macro_df, left_on='дата', right_on='дата', how='left')\n",
    "merged_df = merged_df.merge(fuel_df, left_on='дата', right_on='дата', how='left')\n",
    "merged_df = merged_df.merge(cargo_df, left_on='дата', right_on='дата', how='left')\n",
    "\n",
    "merged_df.rename(columns={\n",
    "    'price_chmf': 'chmf_price',\n",
    "    'price_magn': 'magn_price',\n",
    "    'price_nlmk': 'nlmk_price',\n",
    "    'цена': 'armatura_price',\n",
    "    'цена на бензин': 'gas_price',\n",
    "    'цена на дт': 'dt_price',\n",
    "    'индекс стоимости грузоперевозок': 'cargo_index'\n",
    "}, inplace = true)\n",
    "merged_df.dropna(inplace=True)\n",
    "\n",
    "merged_df.sort_values('дата', inplace=True)"
   ]
  }
 ],
 "metadata": {
  "kernelspec": {
   "display_name": "Python 3",
   "language": "python",
   "name": "python3"
  },
  "language_info": {
   "codemirror_mode": {
    "name": "ipython",
    "version": 3
   },
   "file_extension": ".py",
   "mimetype": "text/x-python",
   "name": "python",
   "nbconvert_exporter": "python",
   "pygments_lexer": "ipython3",
   "version": "3.12.2"
  }
 },
 "nbformat": 4,
 "nbformat_minor": 2
}
